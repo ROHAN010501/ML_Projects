{
 "cells": [
  {
   "cell_type": "markdown",
   "metadata": {},
   "source": [
    "## NLP Sentiment Analysis"
   ]
  },
  {
   "cell_type": "markdown",
   "metadata": {},
   "source": [
    "### Importing Libraries"
   ]
  },
  {
   "cell_type": "code",
   "execution_count": 1,
   "metadata": {},
   "outputs": [],
   "source": [
    "import pandas as pd\n",
    "import numpy as np\n",
    "from sklearn.model_selection import train_test_split\n",
    "from sklearn.feature_extraction.text import CountVectorizer\n",
    "from sklearn.metrics import accuracy_score, precision_score, recall_score\n",
    "import nltk\n",
    "import joblib\n",
    "from nltk.stem import WordNetLemmatizer\n",
    "from nltk.corpus import stopwords\n",
    "from sklearn.tree import DecisionTreeClassifier\n",
    "import matplotlib.pyplot as plt\n",
    "import seaborn as sns"
   ]
  },
  {
   "cell_type": "markdown",
   "metadata": {},
   "source": [
    "Dataset Link - https://www.kaggle.com/datasets/nelgiriyewithana/emotions"
   ]
  },
  {
   "cell_type": "code",
   "execution_count": 2,
   "metadata": {},
   "outputs": [],
   "source": [
    "#Loading dataset\n",
    "df = pd.read_csv(r\"C:\\ml_datasets\\Emotions .csv\")\n",
    "df.drop_duplicates(inplace=True)\n",
    "# print(df.shape)"
   ]
  },
  {
   "cell_type": "code",
   "execution_count": 3,
   "metadata": {},
   "outputs": [
    {
     "name": "stdout",
     "output_type": "stream",
     "text": [
      "Unnamed: 0    0\n",
      "text          0\n",
      "label         0\n",
      "dtype: int64\n",
      "<class 'pandas.core.frame.DataFrame'>\n",
      "RangeIndex: 416809 entries, 0 to 416808\n",
      "Data columns (total 3 columns):\n",
      " #   Column      Non-Null Count   Dtype \n",
      "---  ------      --------------   ----- \n",
      " 0   Unnamed: 0  416809 non-null  int64 \n",
      " 1   text        416809 non-null  object\n",
      " 2   label       416809 non-null  int64 \n",
      "dtypes: int64(2), object(1)\n",
      "memory usage: 9.5+ MB\n",
      "None\n",
      "label\n",
      "1    141067\n",
      "0    121187\n",
      "3     57317\n",
      "4     47712\n",
      "2     34554\n",
      "5     14972\n",
      "Name: count, dtype: int64\n"
     ]
    }
   ],
   "source": [
    "#checking for null values and info\n",
    "print(df.isnull().sum())\n",
    "\n",
    "print(df.info())\n",
    "\n",
    "print(df['label'].value_counts())"
   ]
  },
  {
   "cell_type": "code",
   "execution_count": 4,
   "metadata": {},
   "outputs": [
    {
     "name": "stdout",
     "output_type": "stream",
     "text": [
      "   label  val_count\n",
      "0      1     141067\n",
      "1      0     121187\n",
      "2      3      57317\n",
      "3      4      47712\n",
      "4      2      34554\n",
      "5      5      14972\n"
     ]
    },
    {
     "data": {
      "image/png": "[encoded data removed]",
      "text/plain": [
       "<Figure size 1000x500 with 1 Axes>"
      ]
     },
     "metadata": {},
     "output_type": "display_data"
    }
   ],
   "source": [
    "#total labels and their count\n",
    "label_counts  = df['label'].value_counts().reset_index()\n",
    "label_counts.columns = ['label', 'val_count']\n",
    "print(label_counts)\n",
    "\n",
    "plt.figure(figsize=(10,5))\n",
    "plt.barh(label_counts['label'], label_counts['val_count'])\n",
    "plt.xlabel('Value Counts')\n",
    "plt.ylabel('Labels')\n",
    "plt.title('val_counts X labels')\n",
    "plt.show()"
   ]
  },
  {
   "cell_type": "code",
   "execution_count": 5,
   "metadata": {},
   "outputs": [
    {
     "name": "stderr",
     "output_type": "stream",
     "text": [
      "[nltk_data] Downloading package punkt to\n",
      "[nltk_data]     C:\\Users\\Lenovo\\AppData\\Roaming\\nltk_data...\n",
      "[nltk_data]   Package punkt is already up-to-date!\n",
      "[nltk_data] Downloading package wordnet to\n",
      "[nltk_data]     C:\\Users\\Lenovo\\AppData\\Roaming\\nltk_data...\n",
      "[nltk_data]   Package wordnet is already up-to-date!\n",
      "[nltk_data] Downloading package stopwords to\n",
      "[nltk_data]     C:\\Users\\Lenovo\\AppData\\Roaming\\nltk_data...\n",
      "[nltk_data]   Package stopwords is already up-to-date!\n"
     ]
    }
   ],
   "source": [
    "#downloading different sets from nltk\n",
    "nltk.download('punkt')\n",
    "nltk.download('wordnet')\n",
    "nltk.download('stopwords')\n",
    "\n",
    "lemmatizer = WordNetLemmatizer()\n",
    "stop_words = set(stopwords.words('english'))"
   ]
  },
  {
   "cell_type": "code",
   "execution_count": 6,
   "metadata": {},
   "outputs": [
    {
     "name": "stdout",
     "output_type": "stream",
     "text": [
      "0                        feel really helpless heavy hearted\n",
      "1         ive enjoyed able slouch relax unwind frankly n...\n",
      "2                   gave internship dmrg feeling distraught\n",
      "3                                       dont know feel lost\n",
      "4         kindergarten teacher thoroughly weary job take...\n",
      "                                ...                        \n",
      "416804    feel like telling horny devil find site suited...\n",
      "416805    began realize feeling agitated restless would ...\n",
      "416806    feel curious previous early dawn time seek tro...\n",
      "416807    feel becuase tyranical nature government el sa...\n",
      "416808    think spent time investigating surroundings th...\n",
      "Name: processed, Length: 416809, dtype: object\n"
     ]
    }
   ],
   "source": [
    "#creating a function to Tokenize, Lemmatize and removing stopwords\n",
    "def preprocess(text):\n",
    "    # Tokenize\n",
    "    tokens = nltk.word_tokenize(text)\n",
    "    # Lemmatize and remove stopwords\n",
    "    return ' '.join([lemmatizer.lemmatize(word) for word in tokens if word not in stop_words])\n",
    "\n",
    "df['processed'] = df['text'].apply(preprocess)\n",
    "print(df['processed'])"
   ]
  },
  {
   "cell_type": "code",
   "execution_count": 7,
   "metadata": {},
   "outputs": [],
   "source": [
    "#using bag of words technique to label the text data\n",
    "vectorizer = CountVectorizer()\n",
    "X = vectorizer.fit_transform(df['processed'])\n",
    "y = df['label']"
   ]
  },
  {
   "cell_type": "code",
   "execution_count": 8,
   "metadata": {},
   "outputs": [],
   "source": [
    "#splitting the data in 80-20 split\n",
    "X_train, X_test, y_train, y_test = train_test_split(X, y, test_size=0.2, random_state=42,  stratify = y)"
   ]
  },
  {
   "cell_type": "code",
   "execution_count": 9,
   "metadata": {},
   "outputs": [
    {
     "data": {
      "text/plain": [
       "['C:\\\\ml_algorithms\\\\NLP_models\\\\joblib_sentiment_analysis']"
      ]
     },
     "execution_count": 9,
     "metadata": {},
     "output_type": "execute_result"
    }
   ],
   "source": [
    "#training the model using a descision tree\n",
    "'''model = DecisionTreeClassifier()\n",
    "# Train the model\n",
    "model.fit(X_train, y_train)\n",
    "\n",
    "#creating joblib file to execute directly\n",
    "joblib.dump(model, r\"C:\\ml_algorithms\\NLP_models\\joblib_sentiment_analysis\")'''"
   ]
  },
  {
   "cell_type": "code",
   "execution_count": 10,
   "metadata": {},
   "outputs": [],
   "source": [
    "# loading the model using joblib\n",
    "loaded_model = joblib.load(r\"C:\\ml_algorithms\\NLP_models\\joblib_sentiment_analysis\")"
   ]
  },
  {
   "cell_type": "code",
   "execution_count": 11,
   "metadata": {},
   "outputs": [],
   "source": [
    "# Make predictions\n",
    "y_train_class_preds = loaded_model.predict(X_train)\n",
    "y_test_class_preds = loaded_model.predict(X_test)"
   ]
  },
  {
   "cell_type": "code",
   "execution_count": 12,
   "metadata": {},
   "outputs": [
    {
     "name": "stdout",
     "output_type": "stream",
     "text": [
      "Train Accuracy: 0.9570096597060402\n",
      "Test Accuracy: 0.8495957390657614\n"
     ]
    }
   ],
   "source": [
    "# Evaluate the model using accuracy as a metric\n",
    "train_accuracy = accuracy_score(y_train, y_train_class_preds)\n",
    "test_accuracy = accuracy_score(y_test, y_test_class_preds)\n",
    "print(\"Train Accuracy:\", train_accuracy)\n",
    "print(\"Test Accuracy:\", test_accuracy)"
   ]
  },
  {
   "cell_type": "code",
   "execution_count": 17,
   "metadata": {},
   "outputs": [
    {
     "name": "stdout",
     "output_type": "stream",
     "text": [
      "1\n",
      "Joy\n"
     ]
    }
   ],
   "source": [
    "#taking sentence as input and predicting the sentiment\n",
    "new_sentence = input(\"Please give a sentence to predict the Sentiment: \")\n",
    "processed_new_sentence = preprocess(new_sentence)\n",
    "vectorized_new_sentence = vectorizer.transform([processed_new_sentence])\n",
    "predicted_sentiment = loaded_model.predict(vectorized_new_sentence)\n",
    "import random\n",
    "def response(sntmt:int):\n",
    "    \"\"\"the function will return a reply in text form to the sentiment and a sentiment id\"\"\"\n",
    "    dict_0 = {0:[\"Sadness\"], 1:[\"Joy\"], 2:[\"Love\"], 3:[\"Anger\"],\n",
    "              4:[\"Fear\"], 5:['Surprise']}\n",
    "    list_0 = dict_0[sntmt]\n",
    "    return random.choice(list_0),sntmt\n",
    "\n",
    "response_text,sntmt_id = response(predicted_sentiment[0])\n",
    "print(sntmt_id)\n",
    "print(response_text)"
   ]
  }
 ],
 "metadata": {
  "kernelspec": {
   "display_name": "Python 3",
   "language": "python",
   "name": "python3"
  },
  "language_info": {
   "codemirror_mode": {
    "name": "ipython",
    "version": 3
   },
   "file_extension": ".py",
   "mimetype": "text/x-python",
   "name": "python",
   "nbconvert_exporter": "python",
   "pygments_lexer": "ipython3",
   "version": "3.11.6"
  }
 },
 "nbformat": 4,
 "nbformat_minor": 2
}
